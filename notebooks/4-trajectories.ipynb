{
 "cells": [
  {
   "cell_type": "markdown",
   "metadata": {},
   "source": [
    "### Load Data"
   ]
  },
  {
   "cell_type": "markdown",
   "metadata": {},
   "source": [
    "Load raw data"
   ]
  },
  {
   "cell_type": "code",
   "execution_count": 1,
   "metadata": {},
   "outputs": [],
   "source": [
    "import sys\n",
    "from pathlib import Path\n",
    "APP_PATH = str((Path.cwd().parent / 'app').resolve())\n",
    "\n",
    "if APP_PATH not in sys.path:\n",
    "    sys.path.append(APP_PATH)\n",
    "    \n",
    "%load_ext autoreload\n",
    "%autoreload 2"
   ]
  },
  {
   "cell_type": "code",
   "execution_count": 2,
   "metadata": {},
   "outputs": [
    {
     "name": "stdout",
     "output_type": "stream",
     "text": [
      "Loading /home/jovyan/work/data/steinmetz_part0.npz...\n",
      "Loading /home/jovyan/work/data/steinmetz_part1.npz...\n",
      "Loading /home/jovyan/work/data/steinmetz_part2.npz...\n"
     ]
    }
   ],
   "source": [
    "from src.data import load_sessions\n",
    "\n",
    "DATA_DIR = Path.cwd().parent / 'data'\n",
    "\n",
    "sessions = load_sessions(DATA_DIR, cleanup=False)"
   ]
  },
  {
   "cell_type": "code",
   "execution_count": 4,
   "metadata": {},
   "outputs": [],
   "source": [
    "import pickle\n",
    "\n",
    "with open(DATA_DIR / \"decoder_results.pickle\", \"rb\") as f:\n",
    "    dec_res = pickle.load(f)"
   ]
  },
  {
   "cell_type": "code",
   "execution_count": 5,
   "metadata": {},
   "outputs": [],
   "source": [
    "import numpy as np\n",
    "\n",
    "action_trials = dec_res[24]['action']['trial_numbers']\n",
    "action_times = dec_res[24]['action']['decision_times']\n",
    "\n",
    "vision_trials = dec_res[24]['vision']['trial_numbers']\n",
    "vision_times = dec_res[24]['vision']['decision_times']\n",
    "\n",
    "# common trials for action and vision\n",
    "common_trials = np.intersect1d(action_trials, vision_trials)"
   ]
  },
  {
   "cell_type": "code",
   "execution_count": 6,
   "metadata": {},
   "outputs": [],
   "source": [
    "# for common trials\n",
    "vision_idx, action_idx = 500 + np.round([\n",
    "    vision_times[np.in1d(vision_trials, common_trials)].mean(),\n",
    "    action_times[np.in1d(action_trials, common_trials)].mean(),\n",
    "])"
   ]
  },
  {
   "cell_type": "markdown",
   "metadata": {},
   "source": [
    "### Do PCA for neural trajectories"
   ]
  },
  {
   "cell_type": "markdown",
   "metadata": {},
   "source": [
    "Visual areas"
   ]
  },
  {
   "cell_type": "code",
   "execution_count": 3,
   "metadata": {},
   "outputs": [],
   "source": [
    "import matplotlib.pyplot as plt\n",
    "%matplotlib widget\n",
    "\n",
    "plt.style.use('fivethirtyeight')"
   ]
  },
  {
   "cell_type": "code",
   "execution_count": 9,
   "metadata": {},
   "outputs": [
    {
     "name": "stdout",
     "output_type": "stream",
     "text": [
      "(94, 261, 250)\n",
      "(199,)\n"
     ]
    }
   ],
   "source": [
    "from src.pca import run_pca, smt_pca, map_pca\n",
    "from src.selectors import get_selectors\n",
    "\n",
    "# run pca on visual region\n",
    "\n",
    "# Choose\n",
    "sub = 24\n",
    "sel = get_selectors(sessions[sub])\n",
    "vis_dat = sessions[sub]['spks'][sel[\"NEURON_VISUAL\"]]\n",
    "\n",
    "print(vis_dat.shape)\n",
    "\n",
    "W, V, variance_explained = run_pca(vis_dat[:,:,51:130])\n",
    "\n",
    "# project data to pcs\n",
    "pc_10ms = map_pca(W, V, vis_dat)\n",
    "\n",
    "# get first two mean pcs and smooth them\n",
    "n = 2500\n",
    "pc_smt_ = np.zeros((pc_10ms.shape[0],n))\n",
    "\n",
    "for i in range(pc_10ms.shape[0]):\n",
    "    pc_smt = smt_pca(pc_10ms[i].mean(axis = 0),n)\n",
    "    pc_smt_[i,:] = pc_smt\n",
    "\n",
    "print(pc_10ms[0][1][51:].shape)"
   ]
  },
  {
   "cell_type": "code",
   "execution_count": 10,
   "metadata": {
    "scrolled": true
   },
   "outputs": [
    {
     "name": "stdout",
     "output_type": "stream",
     "text": [
      "pc_vision_correct\n",
      "CHOICE_CORRECT STIM_RIGHT_HIGH shape:  (94, 43, 250)\n",
      "CHOICE_CORRECT STIM_RIGHT_MEDIUM shape:  (94, 32, 250)\n",
      "CHOICE_CORRECT STIM_RIGHT_LOW shape:  (94, 15, 250)\n",
      "CHOICE_CORRECT STIM_RIGHT_NONE shape:  (94, 91, 250)\n",
      "pc_vision_incorrect\n",
      "CHOICE_INCORRECT STIM_RIGHT_HIGH shape:  (94, 22, 250)\n",
      "CHOICE_INCORRECT STIM_RIGHT_MEDIUM shape:  (94, 13, 250)\n",
      "CHOICE_INCORRECT STIM_RIGHT_LOW shape:  (94, 11, 250)\n",
      "CHOICE_INCORRECT STIM_RIGHT_NONE shape:  (94, 34, 250)\n"
     ]
    }
   ],
   "source": [
    "# Map PCA for For vision\n",
    "from src.trajectories import map_and_smooth, fit_tsne\n",
    "\n",
    "sel['CHOICE_INCORRECT'] = ~sel['CHOICE_CORRECT']\n",
    "outcomes = ['CHOICE_CORRECT' , 'CHOICE_INCORRECT']\n",
    "\n",
    "contrast_levels = [\"STIM_RIGHT_HIGH\", \"STIM_RIGHT_MEDIUM\", \"STIM_RIGHT_LOW\", \"STIM_RIGHT_NONE\"]\n",
    "\n",
    "# create two dictionaries\n",
    "pc_vision_correct = {}\n",
    "pc_vision_incorrect = {}\n",
    "\n",
    "embed_correct = {}\n",
    "embed_incorrect = {}\n",
    "\n",
    "for outcome in outcomes:\n",
    "    # get smoothed pc components for each\n",
    "    print(f'pc_vision_{outcome[7:]}'.lower())\n",
    "    for contrast in contrast_levels:\n",
    "        # select data\n",
    "        contrast_data = vis_dat[:, sel[contrast] & sel[outcome]]\n",
    "        \n",
    "        # save pc in dictionary\n",
    "        if outcome == 'CHOICE_CORRECT':\n",
    "            pc_vision_correct[contrast] = map_and_smooth(contrast_data, W, V)\n",
    "            embed_correct[contrast] = fit_tsne(pc_vision_correct[contrast])\n",
    "\n",
    "        elif outcome == \"CHOICE_INCORRECT\":\n",
    "            pc_vision_incorrect[contrast] = map_and_smooth(contrast_data, W, V)\n",
    "            embed_incorrect[contrast] = fit_tsne(pc_vision_incorrect[contrast])\n",
    "        \n",
    "        print(outcome, contrast, 'shape: ', contrast_data.shape)\n"
   ]
  },
  {
   "cell_type": "code",
   "execution_count": 11,
   "metadata": {},
   "outputs": [
    {
     "name": "stdout",
     "output_type": "stream",
     "text": [
      "Vision Correct Trials\n"
     ]
    },
    {
     "data": {
      "application/vnd.jupyter.widget-view+json": {
       "model_id": "7bbfe9efc79a4877b3efb356d2b007cd",
       "version_major": 2,
       "version_minor": 0
      },
      "text/plain": [
       "Canvas(toolbar=Toolbar(toolitems=[('Home', 'Reset original view', 'home', 'home'), ('Back', 'Back to previous …"
      ]
     },
     "metadata": {},
     "output_type": "display_data"
    }
   ],
   "source": [
    "# Visualization for vision, correct\n",
    "from src.trajectories import traj_viz_continous, update_limits, add_colorbar\n",
    "\n",
    "print('Vision Correct Trials')\n",
    "fig, axs = plt.subplots(2,2, figsize=(10, 10), sharex=True, sharey=True)\n",
    "\n",
    "titles = [ word+' Contrast' for word in ['High', 'Medium', 'Low', 'None']]\n",
    "\n",
    "pc_indicse = [0, 1]\n",
    "\n",
    "# random limits to start with\n",
    "pc_xlim = [0,0.5]\n",
    "pc_ylim = [0,0.5]\n",
    "\n",
    "for i, contrast in enumerate(contrast_levels):\n",
    "    traj_viz_continous(pc_vision_correct[contrast][pc_indicse[0]], pc_vision_correct[contrast][pc_indicse[1]], \n",
    "                       axs[i//2, i%2], \n",
    "                       name_x = 'PC 1', name_y = 'PC 2', \n",
    "                       title = titles[i])\n",
    "    ys = plt.gca().get_ylim()\n",
    "    xs = plt.gca().get_xlim()\n",
    "    pc_xlim, pc_ylim = update_limits(pc_xlim, pc_ylim, xs, ys)\n",
    "\n",
    "# Setting the values for all axes.\n",
    "plt.setp(axs, xlim=pc_xlim, ylim=pc_ylim)\n",
    "# plt.xticks(ticks=pc_xlim)\n",
    "# plt.yticks(ticks=pc_ylim)\n",
    "\n",
    "add_colorbar(axs[1,1], len(pc_vision_correct[contrast][0]))"
   ]
  },
  {
   "cell_type": "code",
   "execution_count": 12,
   "metadata": {},
   "outputs": [
    {
     "name": "stdout",
     "output_type": "stream",
     "text": [
      "Vision Incorrect Trials\n"
     ]
    },
    {
     "data": {
      "application/vnd.jupyter.widget-view+json": {
       "model_id": "7109c171fdf24d3e9faa33648e4c372a",
       "version_major": 2,
       "version_minor": 0
      },
      "text/plain": [
       "Canvas(toolbar=Toolbar(toolitems=[('Home', 'Reset original view', 'home', 'home'), ('Back', 'Back to previous …"
      ]
     },
     "metadata": {},
     "output_type": "display_data"
    }
   ],
   "source": [
    "# Visualization for vision, incorrect\n",
    "print('Vision Incorrect Trials')\n",
    "fig, axs = plt.subplots(2,2, figsize=(10, 10), sharex=True, sharey=True)\n",
    "\n",
    "titles = [ word+' Contrast' for word in ['High', 'Medium', 'Low', 'None']]\n",
    "\n",
    "# random limits to start with\n",
    "pc_xlim = [0,0.5]\n",
    "pc_ylim = [0,0.5]\n",
    "\n",
    "for i, contrast in enumerate(contrast_levels):\n",
    "    traj_viz_continous(pc_vision_incorrect[contrast][pc_indicse[0]], pc_vision_incorrect[contrast][pc_indicse[1]], \n",
    "                       axs[i//2, i%2], \n",
    "                       name_x = 'PC 1', name_y = 'PC 2', \n",
    "                       title = titles[i])\n",
    "    ys = plt.gca().get_ylim()\n",
    "    xs = plt.gca().get_xlim()\n",
    "    pc_xlim, pc_ylim = update_limits(pc_xlim, pc_ylim, xs, ys)\n",
    "\n",
    "# Setting the values for all axes.\n",
    "plt.setp(axs, xlim=pc_xlim, ylim=pc_ylim)\n",
    "# plt.xticks(ticks=pc_xlim)\n",
    "# plt.yticks(ticks=pc_ylim)\n",
    "\n",
    "add_colorbar(axs[1,1], len(pc_vision_incorrect[contrast][0]))"
   ]
  },
  {
   "cell_type": "markdown",
   "metadata": {},
   "source": [
    "Using mean action decision time and mean vision decision time to color code trajectory."
   ]
  },
  {
   "cell_type": "code",
   "execution_count": 13,
   "metadata": {},
   "outputs": [
    {
     "data": {
      "application/vnd.jupyter.widget-view+json": {
       "model_id": "bab3bf9127b741f4b4238d2d2ced8a3e",
       "version_major": 2,
       "version_minor": 0
      },
      "text/plain": [
       "Canvas(toolbar=Toolbar(toolitems=[('Home', 'Reset original view', 'home', 'home'), ('Back', 'Back to previous …"
      ]
     },
     "metadata": {},
     "output_type": "display_data"
    }
   ],
   "source": [
    "from src.trajectories import traj_viz_discrete\n",
    "\n",
    "pc01 = pc_vision_correct['STIM_RIGHT_HIGH'][0][500:]\n",
    "pc02 = pc_vision_correct['STIM_RIGHT_HIGH'][1][500:]\n",
    "traj_viz_discrete(pc01, pc02, vision_idx - 500, action_idx - 500, name_x = 'PC 1', name_y = 'PC 2')"
   ]
  },
  {
   "cell_type": "markdown",
   "metadata": {
    "colab_type": "text",
    "id": "JX-geSW5o5Yg"
   },
   "source": [
    "### Visualize 2D neural trajectories with color coding based on timing. (Pre-stim, pre-action, post-action)"
   ]
  },
  {
   "cell_type": "code",
   "execution_count": 14,
   "metadata": {},
   "outputs": [
    {
     "data": {
      "application/vnd.jupyter.widget-view+json": {
       "model_id": "d87ff76c43924169a30647d5c8f5d1a7",
       "version_major": 2,
       "version_minor": 0
      },
      "text/plain": [
       "Canvas(toolbar=Toolbar(toolitems=[('Home', 'Reset original view', 'home', 'home'), ('Back', 'Back to previous …"
      ]
     },
     "metadata": {},
     "output_type": "display_data"
    }
   ],
   "source": [
    "import math\n",
    "from src.trajectories import traj_viz_anim\n",
    "\n",
    "pc1 = pc_vision_correct['STIM_RIGHT_HIGH'][0][300: 1500: 3]\n",
    "pc2 = pc_vision_correct['STIM_RIGHT_HIGH'][1][300: 1500: 3]\n",
    "anim=traj_viz_anim(pc1, pc2, math.floor(len(pc1)* vision_idx / 2500), math.floor(len(pc2)* action_idx / 2500), \n",
    "                   name_x = 'PC 1', name_y = 'PC 2', color_type='discrete')"
   ]
  },
  {
   "cell_type": "markdown",
   "metadata": {},
   "source": [
    "Motor Areas"
   ]
  },
  {
   "cell_type": "code",
   "execution_count": 15,
   "metadata": {},
   "outputs": [
    {
     "name": "stdout",
     "output_type": "stream",
     "text": [
      "(80, 261, 250)\n",
      "(199,)\n"
     ]
    }
   ],
   "source": [
    "# run pca on secondary motor region\n",
    "mot_dat = sessions[sub]['spks'][sel[\"NEURON_MOTOR\"]]\n",
    "\n",
    "print(mot_dat.shape)\n",
    "\n",
    "W_m, V_m, variance_explained_m = run_pca(mot_dat[:,:,0:200])\n",
    "\n",
    "# project data to pcs\n",
    "pc_mot = map_pca(W_m, V_m, mot_dat)\n",
    "\n",
    "# get first two mean pcs and smooth them\n",
    "n = 2500\n",
    "pc_m_smt_ = np.zeros((pc_mot.shape[0],n))\n",
    "\n",
    "for i in range(pc_mot.shape[0]):\n",
    "    pc_m_smt = smt_pca(pc_mot[i].mean(axis = 0),n)\n",
    "    pc_m_smt_[i,:] = pc_m_smt\n",
    "\n",
    "print(pc_mot[0][1][51:].shape)"
   ]
  },
  {
   "cell_type": "code",
   "execution_count": 16,
   "metadata": {},
   "outputs": [
    {
     "name": "stdout",
     "output_type": "stream",
     "text": [
      "pc_motor_correct\n",
      "CHOICE_CORRECT GO_TRIALS shape:  (80, 131, 250)\n",
      "CHOICE_CORRECT NOGO_TRIALS shape:  (80, 50, 250)\n",
      "pc_motor_incorrect\n",
      "CHOICE_INCORRECT GO_TRIALS shape:  (80, 27, 250)\n",
      "CHOICE_INCORRECT NOGO_TRIALS shape:  (80, 29, 250)\n"
     ]
    }
   ],
   "source": [
    "# Map PCA For motor\n",
    "actions = [\n",
    "    (\"GO_TRIALS\", ~sel[\"STIM_NONE\"] & (sessions[sub]['contrast_right'] != sessions[sub]['contrast_left'])),\n",
    "    (\"NOGO_TRIALS\", sel[\"STIM_NONE\"]),\n",
    "]\n",
    "\n",
    "pc_motor_correct = {}\n",
    "pc_motor_incorrect = {}\n",
    "\n",
    "for outcome in outcomes:\n",
    "    # get smoothed pc components for each\n",
    "    print(f'pc_motor_{outcome[7:]}'.lower())\n",
    "\n",
    "    for action, selector in actions:\n",
    "        # select data\n",
    "        action_data = mot_dat[:, selector & sel[outcome]]\n",
    "        print(outcome, action, 'shape: ', action_data.shape)\n",
    "        \n",
    "        # save pc in dictionary\n",
    "        if outcome == 'CHOICE_CORRECT':\n",
    "            pc_motor_correct[action] = map_and_smooth(action_data, W_m, V_m)\n",
    "        elif outcome == \"CHOICE_INCORRECT\":\n",
    "            pc_motor_incorrect[action] = map_and_smooth(action_data, W_m, V_m)"
   ]
  },
  {
   "cell_type": "code",
   "execution_count": 17,
   "metadata": {},
   "outputs": [
    {
     "name": "stdout",
     "output_type": "stream",
     "text": [
      "Motor Correct Trials\n"
     ]
    },
    {
     "data": {
      "application/vnd.jupyter.widget-view+json": {
       "model_id": "9868680afe7d4e9ea827bcfbcb684ec0",
       "version_major": 2,
       "version_minor": 0
      },
      "text/plain": [
       "Canvas(toolbar=Toolbar(toolitems=[('Home', 'Reset original view', 'home', 'home'), ('Back', 'Back to previous …"
      ]
     },
     "metadata": {},
     "output_type": "display_data"
    }
   ],
   "source": [
    "# for motor, correct\n",
    "print('Motor Correct Trials')\n",
    "fig, axs = plt.subplots(1,2, figsize=(10, 5), sharex=True, sharey=True)\n",
    "\n",
    "titles = ['Go Trials', 'Nogo Trials']\n",
    "\n",
    "# random limits to start with\n",
    "pc_xlim = [0,0.3]\n",
    "pc_ylim = [0,0.3]\n",
    "\n",
    "for i, (action, _) in enumerate(actions):\n",
    "    traj_viz_continous(pc_motor_correct[action][0], pc_motor_correct[action][1], \n",
    "                       axs[i%2], \n",
    "                       name_x = 'PC 1', name_y = 'PC 2', \n",
    "                       title = titles[i])\n",
    "    ys = plt.gca().get_ylim()\n",
    "    xs = plt.gca().get_xlim()\n",
    "    pc_xlim, pc_ylim = update_limits(pc_xlim, pc_ylim, xs, ys)\n",
    "\n",
    "# Setting the values for all axes.\n",
    "plt.setp(axs, xlim=pc_xlim, ylim=pc_ylim)\n",
    "\n",
    "add_colorbar(axs[1], len(pc_motor_correct[action][0]))"
   ]
  },
  {
   "cell_type": "code",
   "execution_count": 18,
   "metadata": {},
   "outputs": [
    {
     "data": {
      "application/vnd.jupyter.widget-view+json": {
       "model_id": "bbdf7ca3a8934d83bd474413aab12108",
       "version_major": 2,
       "version_minor": 0
      },
      "text/plain": [
       "Canvas(toolbar=Toolbar(toolitems=[('Home', 'Reset original view', 'home', 'home'), ('Back', 'Back to previous …"
      ]
     },
     "metadata": {},
     "output_type": "display_data"
    }
   ],
   "source": [
    "pc_m01 = pc_motor_correct['GO_TRIALS'][0][500:]\n",
    "pc_m02 = pc_motor_correct['GO_TRIALS'][1][500:]\n",
    "traj_viz_discrete(pc_m01, pc_m02, vision_idx - 500, action_idx - 500, name_x = 'PC 1', name_y = 'PC 2')"
   ]
  },
  {
   "cell_type": "code",
   "execution_count": 19,
   "metadata": {},
   "outputs": [
    {
     "name": "stdout",
     "output_type": "stream",
     "text": [
      "Motor Incorrect Trials\n"
     ]
    },
    {
     "data": {
      "application/vnd.jupyter.widget-view+json": {
       "model_id": "0859e3af64c5477daaa2a38de7780e0e",
       "version_major": 2,
       "version_minor": 0
      },
      "text/plain": [
       "Canvas(toolbar=Toolbar(toolitems=[('Home', 'Reset original view', 'home', 'home'), ('Back', 'Back to previous …"
      ]
     },
     "metadata": {},
     "output_type": "display_data"
    }
   ],
   "source": [
    "# for motor, incorrect\n",
    "print('Motor Incorrect Trials')\n",
    "fig, axs = plt.subplots(1,2, figsize=(10, 5), sharex=True, sharey=True)\n",
    "\n",
    "titles = ['Go Trials', 'Nogo Trials']\n",
    "\n",
    "# random limits to start with\n",
    "pc_xlim = [0,0.3]\n",
    "pc_ylim = [0,0.3]\n",
    "\n",
    "for i, (action, _) in enumerate(actions):\n",
    "    traj_viz_continous(pc_motor_incorrect[action][0], pc_motor_incorrect[action][1], \n",
    "                       axs[i%2], \n",
    "                       name_x = 'PC 1', name_y = 'PC 2', \n",
    "                       title = titles[i])\n",
    "    ys = plt.gca().get_ylim()\n",
    "    xs = plt.gca().get_xlim()\n",
    "    pc_xlim, pc_ylim = update_limits(pc_xlim, pc_ylim, xs, ys)\n",
    "\n",
    "# Setting the values for all axes.\n",
    "plt.setp(axs, xlim=pc_xlim, ylim=pc_ylim)\n",
    "\n",
    "add_colorbar(axs[1], len(pc_motor_incorrect[action][0]))"
   ]
  },
  {
   "cell_type": "markdown",
   "metadata": {},
   "source": [
    "Visualize TSNE results. Not important. "
   ]
  },
  {
   "cell_type": "code",
   "execution_count": 20,
   "metadata": {},
   "outputs": [
    {
     "name": "stdout",
     "output_type": "stream",
     "text": [
      "Vision Correct Trials\n"
     ]
    },
    {
     "data": {
      "application/vnd.jupyter.widget-view+json": {
       "model_id": "c16e2354d5c644aa9f79759bb2992fde",
       "version_major": 2,
       "version_minor": 0
      },
      "text/plain": [
       "Canvas(toolbar=Toolbar(toolitems=[('Home', 'Reset original view', 'home', 'home'), ('Back', 'Back to previous …"
      ]
     },
     "metadata": {},
     "output_type": "display_data"
    },
    {
     "data": {
      "application/vnd.jupyter.widget-view+json": {
       "model_id": "015e5a0c73b5468abe909b841b349549",
       "version_major": 2,
       "version_minor": 0
      },
      "text/plain": [
       "Canvas(toolbar=Toolbar(toolitems=[('Home', 'Reset original view', 'home', 'home'), ('Back', 'Back to previous …"
      ]
     },
     "metadata": {},
     "output_type": "display_data"
    },
    {
     "name": "stdout",
     "output_type": "stream",
     "text": [
      "Vision Incorrect Trials\n"
     ]
    }
   ],
   "source": [
    "# Visualization for vision, correct\n",
    "print('Vision Correct Trials')\n",
    "fig, axs = plt.subplots(2,2, figsize=(10, 10), sharex=True, sharey=True)\n",
    "\n",
    "titles = [ word+' Contrast' for word in ['High', 'Medium', 'Low', 'None']]\n",
    "\n",
    "pc_indicse = [ 5, 6]\n",
    "\n",
    "# random limits to start with\n",
    "pc_xlim = [0,0.5]\n",
    "pc_ylim = [0,0.5]\n",
    "\n",
    "for i, contrast in enumerate(contrast_levels):\n",
    "    traj_viz_continous(embed_correct[contrast][:, 0], embed_correct[contrast][:, 1], \n",
    "                       axs[i//2, i%2], \n",
    "                       name_x = 'TSNE 1', name_y = 'TSNE 2', \n",
    "                       title = titles[i])\n",
    "    ys = plt.gca().get_ylim()\n",
    "    xs = plt.gca().get_xlim()\n",
    "    pc_xlim, pc_ylim = update_limits(pc_xlim, pc_ylim, xs, ys)\n",
    "\n",
    "# Setting the values for all axes.\n",
    "plt.setp(axs, xlim=pc_xlim, ylim=pc_ylim)\n",
    "# plt.xticks(ticks=pc_xlim)\n",
    "# plt.yticks(ticks=pc_ylim)\n",
    "\n",
    "add_colorbar(axs[1,1], len(pc_vision_correct[contrast][0]))\n",
    "\n",
    "\n",
    "fig, axs = plt.subplots(2,2, figsize=(10, 10), sharex=True, sharey=True)\n",
    "\n",
    "titles = [ word+' Contrast' for word in ['High', 'Medium', 'Low', 'None']]\n",
    "\n",
    "pc_indicse = [ 5, 6]\n",
    "\n",
    "# random limits to start with\n",
    "pc_xlim = [0,0.5]\n",
    "pc_ylim = [0,0.5]\n",
    "\n",
    "for i, contrast in enumerate(contrast_levels):\n",
    "    traj_viz_continous(embed_incorrect[contrast][:, 0], embed_incorrect[contrast][:, 1], \n",
    "                       axs[i//2, i%2], \n",
    "                       name_x = 'TSNE 1', name_y = 'TSNE 2', \n",
    "                       title = titles[i])\n",
    "    ys = plt.gca().get_ylim()\n",
    "    xs = plt.gca().get_xlim()\n",
    "    pc_xlim, pc_ylim = update_limits(pc_xlim, pc_ylim, xs, ys)\n",
    "\n",
    "# Setting the values for all axes.\n",
    "plt.setp(axs, xlim=pc_xlim, ylim=pc_ylim)\n",
    "# plt.xticks(ticks=pc_xlim)\n",
    "# plt.yticks(ticks=pc_ylim)\n",
    "\n",
    "add_colorbar(axs[1,1], len(pc_vision_correct[contrast][0]))\n",
    "# Visualization for vision, correct\n",
    "print('Vision Incorrect Trials')"
   ]
  }
 ],
 "metadata": {
  "colab": {
   "name": "Visualize_trajectories.ipynb",
   "provenance": []
  },
  "kernelspec": {
   "display_name": "Python 3",
   "language": "python",
   "name": "python3"
  },
  "language_info": {
   "codemirror_mode": {
    "name": "ipython",
    "version": 3
   },
   "file_extension": ".py",
   "mimetype": "text/x-python",
   "name": "python",
   "nbconvert_exporter": "python",
   "pygments_lexer": "ipython3",
   "version": "3.8.4"
  }
 },
 "nbformat": 4,
 "nbformat_minor": 4
}
