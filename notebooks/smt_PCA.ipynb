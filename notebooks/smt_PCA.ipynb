{
 "cells": [
  {
   "cell_type": "code",
   "execution_count": null,
   "metadata": {},
   "outputs": [],
   "source": [
    "from scipy.interpolate import BSpline\n",
    "def smt_pca(dat):\n",
    "    x = np.array(range(dat.shape[-1]))\n",
    "    xnew = np.linspace(x.min(), x.max(), 1000)  \n",
    "    for i in range(dat.shape[0]):\n",
    "        pc_10ms_smt[i] = BSpline(x, dat[i], xnew)\n",
    "    return pc_10ms_smt"
   ]
  }
 ],
 "metadata": {
  "kernelspec": {
   "display_name": "Python 3",
   "language": "python",
   "name": "python3"
  },
  "language_info": {
   "codemirror_mode": {
    "name": "ipython",
    "version": 3
   },
   "file_extension": ".py",
   "mimetype": "text/x-python",
   "name": "python",
   "nbconvert_exporter": "python",
   "pygments_lexer": "ipython3",
   "version": "3.7.1"
  }
 },
 "nbformat": 4,
 "nbformat_minor": 2
}
