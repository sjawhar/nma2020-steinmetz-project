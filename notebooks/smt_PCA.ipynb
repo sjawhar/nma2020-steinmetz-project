{
 "cells": [
  {
   "cell_type": "code",
   "execution_count": null,
   "metadata": {},
   "outputs": [],
   "source": [
    "from scipy.interpolate import interp1d\n",
    "def smt_pca(dat,n):\n",
    "## smoothing each individual trial and neuron\n",
    "# pc_10ms_smt = np.zeros((pc_10ms.shape[0],340,800))\n",
    "# x = np.linspace(0, dat.shape[-1]-1, num = dat.shape[-1])\n",
    "# xnew = np.linspace(0, np.max(x), num=800, endpoint=True)   \n",
    "# f = interp1d(x, pc_10ms[0], axis = 1, kind='cubic')\n",
    "# pc_10ms_smt[0] = f(xnew)\n",
    "# print(pc_10ms_smt.shape)\n",
    "\n",
    "# smoothing mean trajectory\n",
    "\n",
    "    x = np.linspace(0, len(dat)-1, num = len(dat))\n",
    "    xnew = np.linspace(0, np.max(x), num=n, endpoint=True)   \n",
    "    f = interp1d(x, dat, kind='cubic')\n",
    "    pc_smt = f(xnew)\n",
    "    \n",
    "    return pc_smt"
   ]
  }
 ],
 "metadata": {
  "kernelspec": {
   "display_name": "Python 3",
   "language": "python",
   "name": "python3"
  },
  "language_info": {
   "codemirror_mode": {
    "name": "ipython",
    "version": 3
   },
   "file_extension": ".py",
   "mimetype": "text/x-python",
   "name": "python",
   "nbconvert_exporter": "python",
   "pygments_lexer": "ipython3",
   "version": "3.7.1"
  }
 },
 "nbformat": 4,
 "nbformat_minor": 2
}
