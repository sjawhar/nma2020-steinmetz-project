{
 "cells": [
  {
   "cell_type": "markdown",
   "metadata": {
    "colab_type": "text",
    "id": "bEqdz1ZUMaj1"
   },
   "source": [
    "## Indexing of Steinmetz data"
   ]
  },
  {
   "cell_type": "code",
   "execution_count": 1,
   "metadata": {
    "cellView": "both",
    "colab": {},
    "colab_type": "code",
    "id": "TLWjKq8bLDqm"
   },
   "outputs": [],
   "source": [
    "#@title Data retrieval\n",
    "import os, requests\n",
    "from pathlib import Path\n",
    "DATA_DIR = Path.cwd().parent / 'data'\n",
    "\n",
    "fname = []\n",
    "for j in range(3):\n",
    "  fname.append(DATA_DIR / f\"steinmetz_part{j}.npz\")\n",
    "url = [\"https://osf.io/agvxh/download\"]\n",
    "url.append(\"https://osf.io/uv3mw/download\")\n",
    "url.append(\"https://osf.io/ehmw2/download\")\n",
    "\n",
    "for j in range(len(url)):\n",
    "  if not fname[j].exists():\n",
    "    try:\n",
    "      r = requests.get(url[j])\n",
    "    except requests.ConnectionError:\n",
    "      print(\"!!! Failed to download data !!!\")\n",
    "    else:\n",
    "      if r.status_code != requests.codes.ok:\n",
    "        print(\"!!! Failed to download data !!!\")\n",
    "      else:\n",
    "        with open(fname[j], \"wb\") as fid:\n",
    "          fid.write(r.content)"
   ]
  },
  {
   "cell_type": "code",
   "execution_count": 2,
   "metadata": {
    "colab": {
     "base_uri": "https://localhost:8080/",
     "height": 54
    },
    "colab_type": "code",
    "id": "sffzC_hyLgWZ",
    "outputId": "a0c2bf46-b9cb-463f-ce45-45db69e1738d"
   },
   "outputs": [],
   "source": [
    "#@title Data loading\n",
    "import numpy as np\n",
    "\n",
    "alldat = np.array([])\n",
    "for j in range(len(fname)):\n",
    "  alldat = np.hstack((alldat, np.load(DATA_DIR / f\"steinmetz_part{j}.npz\", allow_pickle=True)['dat']))"
   ]
  },
  {
   "cell_type": "code",
   "execution_count": 3,
   "metadata": {
    "colab": {
     "base_uri": "https://localhost:8080/",
     "height": 54
    },
    "colab_type": "code",
    "id": "sffzC_hyLgWZ",
    "outputId": "a0c2bf46-b9cb-463f-ce45-45db69e1738d"
   },
   "outputs": [],
   "source": [
    "from brain_areas import *\n",
    "\n",
    "# Regions in Figure 3 with >= ~10% of visually-selective neurons\n",
    "VISUAL_AREAS = [\n",
    "    AREA_VISp,\n",
    "    AREA_VISl,\n",
    "    AREA_VISpm,\n",
    "    AREA_VISam,\n",
    "    AREA_CP,\n",
    "    AREA_LD,\n",
    "    AREA_SCs,\n",
    "]\n",
    "\n",
    "\n",
    "selectors = []\n",
    "for dat in alldat:\n",
    "    sel = {\n",
    "        \"NEURON_VISUAL\": np.isin(dat['brain_area'], VISUAL_AREAS),\n",
    "        \"CHOICE_RIGHT\": dat['response'] == -1,\n",
    "        \"CHOICE_LEFT\": dat['response'] == 1,\n",
    "        \"CHOICE_NONE\": dat['response'] == 0,\n",
    "        \"STIM_RIGHT\": dat['contrast_right'] > dat['contrast_left'],\n",
    "        \"STIM_LEFT\": dat['contrast_right'] < dat['contrast_left'],\n",
    "        \"STIM_EQUAL\": (dat['contrast_right'] == dat['contrast_left']) & (dat['contrast_right'] > 0),\n",
    "        \"STIM_NONE\": (dat['contrast_right'] == dat['contrast_left']) & (dat['contrast_right'] == 0),\n",
    "        \"STIM_RIGHT_HIGH\": dat['contrast_right'] == 1,\n",
    "        \"STIM_RIGHT_MEDIUM\": dat['contrast_right'] == 0.5,\n",
    "        \"STIM_RIGHT_LOW\": dat['contrast_right'] == 0.25,\n",
    "        \"STIM_RIGHT_NONE\": dat['contrast_right'] == 0,\n",
    "    }\n",
    "    sel.update({\n",
    "        \"CHOICE_CORRECT\": (\n",
    "            (sel[\"STIM_RIGHT\"] & sel[\"CHOICE_RIGHT\"])\n",
    "            | (sel[\"STIM_LEFT\"] & sel[\"CHOICE_LEFT\"])\n",
    "            | (sel[\"STIM_NONE\"] & sel[\"CHOICE_NONE\"])\n",
    "        ),\n",
    "        \"CHOICE_MISS\": ~sel[\"STIM_NONE\"] & sel[\"CHOICE_NONE\"]\n",
    "    })\n",
    "    selectors.append(sel)"
   ]
  },
  {
   "cell_type": "code",
   "execution_count": 4,
   "metadata": {},
   "outputs": [
    {
     "name": "stdout",
     "output_type": "stream",
     "text": [
      "(178, 11, 250)\n",
      "(533, 8, 250)\n",
      "(228, 7, 250)\n",
      "(39, 3, 250)\n",
      "(0, 4, 250)\n",
      "(0, 6, 250)\n",
      "(101, 3, 250)\n",
      "(89, 8, 250)\n",
      "(221, 5, 250)\n",
      "(204, 17, 250)\n",
      "(275, 10, 250)\n",
      "(145, 11, 250)\n",
      "(66, 6, 250)\n",
      "(79, 9, 250)\n",
      "(0, 15, 250)\n",
      "(0, 14, 250)\n",
      "(12, 2, 250)\n",
      "(158, 3, 250)\n",
      "(179, 8, 250)\n",
      "(122, 5, 250)\n",
      "(100, 1, 250)\n",
      "(133, 18, 250)\n",
      "(190, 3, 250)\n",
      "(146, 7, 250)\n",
      "(94, 8, 250)\n",
      "(162, 4, 250)\n",
      "(127, 6, 250)\n",
      "(71, 1, 250)\n",
      "(340, 1, 250)\n",
      "(0, 3, 250)\n",
      "(0, 4, 250)\n",
      "(73, 5, 250)\n",
      "(383, 4, 250)\n",
      "(0, 7, 250)\n",
      "(75, 5, 250)\n",
      "(53, 11, 250)\n",
      "(92, 9, 250)\n",
      "(0, 10, 250)\n",
      "(141, 1, 250)\n"
     ]
    }
   ],
   "source": [
    "# for i in range(len(alldat)):\n",
    "#     sel = selectors[i]\n",
    "#     print(alldat[i]['spks'][sel[\"NEURON_VISUAL\"]][:, sel[\"STIM_RIGHT_HIGH\"] & sel[\"CHOICE_LEFT\"]].shape)"
   ]
  },
  {
   "cell_type": "code",
   "execution_count": 6,
   "metadata": {
    "colab": {},
    "colab_type": "code",
    "id": "WDb-nHAi3l3i"
   },
   "outputs": [],
   "source": [
    "with open(DATA_DIR / \"selectors.npy\", \"wb\") as f:\n",
    "    np.save(f, selectors)"
   ]
  },
  {
   "cell_type": "code",
   "execution_count": null,
   "metadata": {},
   "outputs": [],
   "source": []
  }
 ],
 "metadata": {
  "colab": {
   "collapsed_sections": [],
   "name": "Neuromatch Academy 2020 - Steinmetz Decisions.ipynb",
   "provenance": [],
   "toc_visible": true
  },
  "kernelspec": {
   "display_name": "Python 3",
   "language": "python",
   "name": "python3"
  },
  "language_info": {
   "codemirror_mode": {
    "name": "ipython",
    "version": 3
   },
   "file_extension": ".py",
   "mimetype": "text/x-python",
   "name": "python",
   "nbconvert_exporter": "python",
   "pygments_lexer": "ipython3",
   "version": "3.7.1"
  }
 },
 "nbformat": 4,
 "nbformat_minor": 4
}
