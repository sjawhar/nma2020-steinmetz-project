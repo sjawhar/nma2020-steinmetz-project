{
 "cells": [
  {
   "cell_type": "code",
   "execution_count": 2,
   "metadata": {},
   "outputs": [],
   "source": [
    "import numpy as np\n",
    "from sklearn.decomposition import PCA\n",
    "\n",
    "def run_pca(dat):\n",
    "    \"\"\"\n",
    "    run pca on each brain area\n",
    "\n",
    "    Args:\n",
    "    X (numpy array of floats): Data matrix each column corresponds to a\n",
    "                               different random variable\n",
    "\n",
    "  Returns:\n",
    "   variance_explained (numpy array of floats)  : percentage of variances explained by pcs\n",
    "   V (numpy array of floats)  : Vector of eigenvalues\n",
    "   W (numpy array of floats)  : Corresponding matrix of eigenvectors\n",
    "\n",
    "    \"\"\"\n",
    "    dt = 10 # binning at 10 ms\n",
    "    NT = dat.shape[-1]\n",
    "\n",
    "    NN = len(dat)\n",
    "    \n",
    "#@title top PC directions from stimulus + response period\n",
    "    \n",
    "    droll = np.reshape(dat[:,:,51:130], (NN,-1)) # first 80 bins = 1.6 sec\n",
    "    droll = droll - np.mean(droll, axis=1)[:, np.newaxis]\n",
    "    model = PCA(n_components=min(droll.shape[0], droll.shape[1])).fit(droll.T)\n",
    "\n",
    "    W = model.components_   # eigenvectors\n",
    "    V = model.explained_variance_  # eigenvalues\n",
    "    csum = np.cumsum(V)\n",
    "    variance_explained = csum / np.sum(V)\n",
    "\n",
    "    return W, V, variance_explained\n"
   ]
  },
  {
   "cell_type": "code",
   "execution_count": 5,
   "metadata": {},
   "outputs": [],
   "source": [
    "def map_pca(W, V, dat):\n",
    "    \"\"\"\n",
    "    project entire trial data onto pcs\n",
    "\n",
    "    Args:\n",
    "    W (numpy array of floats): Data matrix each column corresponds to a\n",
    "                               different random variable\n",
    "\n",
    "  Returns:\n",
    "   pc_10ms (numpy array of floats)  : projected neuron data on pcs; # of pc * # of bin\n",
    "\n",
    "    \"\"\"\n",
    "    NN = len(dat)\n",
    "    pc_10ms = W @ np.reshape(dat, (NN,-1))\n",
    "    pc_10ms = np.reshape(pc_10ms, (len(V), -1, NT))\n",
    "    return pc_10ms"
   ]
  }
 ],
 "metadata": {
  "kernelspec": {
   "display_name": "Python 3",
   "language": "python",
   "name": "python3"
  },
  "language_info": {
   "codemirror_mode": {
    "name": "ipython",
    "version": 3
   },
   "file_extension": ".py",
   "mimetype": "text/x-python",
   "name": "python",
   "nbconvert_exporter": "python",
   "pygments_lexer": "ipython3",
   "version": "3.7.1"
  }
 },
 "nbformat": 4,
 "nbformat_minor": 2
}
